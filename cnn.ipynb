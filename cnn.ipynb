{
 "cells": [
  {
   "cell_type": "code",
   "execution_count": 2,
   "metadata": {},
   "outputs": [],
   "source": [
    "import newspaper"
   ]
  },
  {
   "cell_type": "code",
   "execution_count": 3,
   "metadata": {},
   "outputs": [],
   "source": [
    "cnn_paper = newspaper.build('https://edition.cnn.com', memoize_articles=False)"
   ]
  },
  {
   "cell_type": "code",
   "execution_count": null,
   "metadata": {},
   "outputs": [],
   "source": [
    "print (cnn_paper.articles[10].url)"
   ]
  },
  {
   "cell_type": "code",
   "execution_count": null,
   "metadata": {},
   "outputs": [],
   "source": [
    "print(cnn_paper.size())"
   ]
  },
  {
   "cell_type": "code",
   "execution_count": null,
   "metadata": {},
   "outputs": [],
   "source": [
    "print(cnn_paper.articles[0].html)"
   ]
  },
  {
   "cell_type": "code",
   "execution_count": null,
   "metadata": {},
   "outputs": [],
   "source": [
    "first_article = cnn_paper.articles[10]"
   ]
  },
  {
   "cell_type": "code",
   "execution_count": null,
   "metadata": {},
   "outputs": [],
   "source": [
    "first_article.download()"
   ]
  },
  {
   "cell_type": "code",
   "execution_count": null,
   "metadata": {},
   "outputs": [],
   "source": [
    "print(first_article.html)"
   ]
  },
  {
   "cell_type": "code",
   "execution_count": null,
   "metadata": {},
   "outputs": [],
   "source": [
    "first_article.parse()"
   ]
  },
  {
   "cell_type": "code",
   "execution_count": null,
   "metadata": {},
   "outputs": [],
   "source": [
    "print(first_article.text)"
   ]
  },
  {
   "cell_type": "code",
   "execution_count": null,
   "metadata": {},
   "outputs": [],
   "source": [
    "first_article.nlp()"
   ]
  },
  {
   "cell_type": "code",
   "execution_count": null,
   "metadata": {},
   "outputs": [],
   "source": [
    "import nltk\n",
    "nltk.download('punkt')"
   ]
  },
  {
   "cell_type": "code",
   "execution_count": null,
   "metadata": {},
   "outputs": [],
   "source": [
    "print(first_article.keywords)"
   ]
  },
  {
   "cell_type": "code",
   "execution_count": null,
   "metadata": {},
   "outputs": [],
   "source": [
    "print(first_article.summary)"
   ]
  },
  {
   "cell_type": "code",
   "execution_count": 8,
   "metadata": {
    "collapsed": true
   },
   "outputs": [
    {
     "name": "stdout",
     "output_type": "stream",
     "text": [
      "https://edition.cnn.com/2020/04/17/americas/us-migrants-guatemala-coronavirus/index.html\n",
      "44 migrants on one US deportation flight tested positive for coronavirus\n",
      "(CNN) At least 44 migrants who were on the same deportation flight from the US to Guatemala this week have tested positive for Covid-19, two Guatemalan government sources told CNN.\n",
      "\n",
      "The migrants flew to Guatemala on an April 13 flight from Brownsville, Texas, the sources said.\n",
      "\n",
      "Some who favor restricting immigration in the United States have suggested accelerating the pace of deportation flights in response to concerns about the virus spreading in ICE detention facilities\n",
      "\n",
      "During a live televised address Thursday night, Guatemala's presidential spokesman Carlos Sandoval said both countries were working closely \"to revalidate the health status of Guatemalans returned in recent days,\" adding that Covid-19 tests \"would be carried out again on the cases that tested positive and also on the people who tested negative\" in both countries.\n",
      "\n",
      "Read More\n",
      "https://edition.cnn.com/2020/04/16/americas/brazil-health-minister-fired-intl/index.html\n",
      "Brazil President Bolsonaro replaces health minister\n",
      "(CNN) Brazil's president Jair Bolsonaro has fired his health minister after weeks of infighting and threats over the country's coronavirus strategy.\n",
      "\n",
      "\"I just heard from President Jair Bolsonaro the notification of my discharge as Health Minister,\" the outgoing minister Luiz Henrique Mandetta tweeted Thursday, thanking his colleagues and wishing success for his replacement.\n",
      "\n",
      "He will be replaced by Nelson Teich, an oncologist who supported Bolsonaro's presidential campaign.\n",
      "\n",
      "Mandetta was one of Brazil's biggest proponents of social distancing, supporting governors' decisions to shut down schools and businesses. But his approach put him at odds with Bolsonaro, who has previously downplayed Covid-19 as nothing more than a \"little flu\" and warned that the economic fallout from isolation could be worse than the virus itself.\n",
      "\n",
      "Mandetta also challenged the president's insistence that malaria drugs are the solution to the Covid-19 crisis. While Brazil has launched trials involving the drugs, Mandetta has warned there is no evidence that they are effective in treating the symptoms.\n",
      "\n",
      "Read More\n",
      "https://edition.cnn.com/2020/04/03/americas/guayaquil-ecuador-overwhelmed-coronavirus-intl/index.html\n",
      "Bodies are being left in the streets in an overwhelmed Ecuadorian city\n",
      "(CNN) The streets of Ecuador's western city of Guayaquil are deserted, with few residents in sight -- and a few dead, as bodies are being left in the streets of this overwhelmed place.\n",
      "\n",
      "The coronavirus pandemic is overloading the public services in the country's most populous city to a point of collapse. Hospitals have no beds left to accept sick patients, and morgues, cemeteries and funeral homes are straining. With no place left to put them, some residents say they have no choice but placing them outside.\n",
      "\n",
      "It's unclear how many of the deceased are dying because of Covid-19. Many families say their loved ones had symptoms of the virus, while others only know the ill were unable to be treated at Guayaquil's overwhelmed hospitals.\n",
      "\n",
      "\"We have been waiting for five days,\" Fernando Espana said in a video obtained by Reuters on March 30, as he complained about the struggles to have authorities come pick up his family member.\n",
      "\n",
      "\"We are tired of calling 911 and the only thing they tell us is to wait, they are working to solve this,\" he continues as he moves the camera through a window to show a black plastic-wrapped shape inside the home, with two fans blowing on it.\n",
      "\n",
      "Read More\n",
      "3\n"
     ]
    }
   ],
   "source": [
    "cnn_list = []\n",
    "for article in cnn_paper.articles[0:10]:\n",
    "    try:\n",
    "        article.download()\n",
    "        article.parse()\n",
    "        if \"Covid-19\" in article.text:\n",
    "            cnn_list.append(article.url)\n",
    "            print (article.url)\n",
    "            print (article.title)\n",
    "            print (article.text)\n",
    "    except Exception as e:\n",
    "        print (e)\n",
    "        continue\n",
    "\n",
    "print (len(cnn_list))"
   ]
  },
  {
   "cell_type": "code",
   "execution_count": 9,
   "metadata": {},
   "outputs": [],
   "source": [
    "import xml.dom.minidom\n"
   ]
  },
  {
   "cell_type": "code",
   "execution_count": 10,
   "metadata": {
    "collapsed": true
   },
   "outputs": [
    {
     "ename": "FileNotFoundError",
     "evalue": "[Errno 2] No such file or directory: 'Myxml.xml'",
     "output_type": "error",
     "traceback": [
      "\u001b[0;31m---------------------------------------------------------------------------\u001b[0m",
      "\u001b[0;31mFileNotFoundError\u001b[0m                         Traceback (most recent call last)",
      "\u001b[0;32m<ipython-input-10-cc6d991bb5cc>\u001b[0m in \u001b[0;36m<module>\u001b[0;34m\u001b[0m\n\u001b[0;32m----> 1\u001b[0;31m \u001b[0mdoc\u001b[0m \u001b[0;34m=\u001b[0m \u001b[0mxml\u001b[0m\u001b[0;34m.\u001b[0m\u001b[0mdom\u001b[0m\u001b[0;34m.\u001b[0m\u001b[0mminidom\u001b[0m\u001b[0;34m.\u001b[0m\u001b[0mparse\u001b[0m\u001b[0;34m(\u001b[0m\u001b[0;34m\"Myxml.xml\"\u001b[0m\u001b[0;34m)\u001b[0m\u001b[0;34m;\u001b[0m\u001b[0;34m\u001b[0m\u001b[0;34m\u001b[0m\u001b[0m\n\u001b[0m",
      "\u001b[0;32m/usr/lib/python3.6/xml/dom/minidom.py\u001b[0m in \u001b[0;36mparse\u001b[0;34m(file, parser, bufsize)\u001b[0m\n\u001b[1;32m   1956\u001b[0m     \u001b[0;32mif\u001b[0m \u001b[0mparser\u001b[0m \u001b[0;32mis\u001b[0m \u001b[0;32mNone\u001b[0m \u001b[0;32mand\u001b[0m \u001b[0;32mnot\u001b[0m \u001b[0mbufsize\u001b[0m\u001b[0;34m:\u001b[0m\u001b[0;34m\u001b[0m\u001b[0;34m\u001b[0m\u001b[0m\n\u001b[1;32m   1957\u001b[0m         \u001b[0;32mfrom\u001b[0m \u001b[0mxml\u001b[0m\u001b[0;34m.\u001b[0m\u001b[0mdom\u001b[0m \u001b[0;32mimport\u001b[0m \u001b[0mexpatbuilder\u001b[0m\u001b[0;34m\u001b[0m\u001b[0;34m\u001b[0m\u001b[0m\n\u001b[0;32m-> 1958\u001b[0;31m         \u001b[0;32mreturn\u001b[0m \u001b[0mexpatbuilder\u001b[0m\u001b[0;34m.\u001b[0m\u001b[0mparse\u001b[0m\u001b[0;34m(\u001b[0m\u001b[0mfile\u001b[0m\u001b[0;34m)\u001b[0m\u001b[0;34m\u001b[0m\u001b[0;34m\u001b[0m\u001b[0m\n\u001b[0m\u001b[1;32m   1959\u001b[0m     \u001b[0;32melse\u001b[0m\u001b[0;34m:\u001b[0m\u001b[0;34m\u001b[0m\u001b[0;34m\u001b[0m\u001b[0m\n\u001b[1;32m   1960\u001b[0m         \u001b[0;32mfrom\u001b[0m \u001b[0mxml\u001b[0m\u001b[0;34m.\u001b[0m\u001b[0mdom\u001b[0m \u001b[0;32mimport\u001b[0m \u001b[0mpulldom\u001b[0m\u001b[0;34m\u001b[0m\u001b[0;34m\u001b[0m\u001b[0m\n",
      "\u001b[0;32m/usr/lib/python3.6/xml/dom/expatbuilder.py\u001b[0m in \u001b[0;36mparse\u001b[0;34m(file, namespaces)\u001b[0m\n\u001b[1;32m    908\u001b[0m \u001b[0;34m\u001b[0m\u001b[0m\n\u001b[1;32m    909\u001b[0m     \u001b[0;32mif\u001b[0m \u001b[0misinstance\u001b[0m\u001b[0;34m(\u001b[0m\u001b[0mfile\u001b[0m\u001b[0;34m,\u001b[0m \u001b[0mstr\u001b[0m\u001b[0;34m)\u001b[0m\u001b[0;34m:\u001b[0m\u001b[0;34m\u001b[0m\u001b[0;34m\u001b[0m\u001b[0m\n\u001b[0;32m--> 910\u001b[0;31m         \u001b[0;32mwith\u001b[0m \u001b[0mopen\u001b[0m\u001b[0;34m(\u001b[0m\u001b[0mfile\u001b[0m\u001b[0;34m,\u001b[0m \u001b[0;34m'rb'\u001b[0m\u001b[0;34m)\u001b[0m \u001b[0;32mas\u001b[0m \u001b[0mfp\u001b[0m\u001b[0;34m:\u001b[0m\u001b[0;34m\u001b[0m\u001b[0;34m\u001b[0m\u001b[0m\n\u001b[0m\u001b[1;32m    911\u001b[0m             \u001b[0mresult\u001b[0m \u001b[0;34m=\u001b[0m \u001b[0mbuilder\u001b[0m\u001b[0;34m.\u001b[0m\u001b[0mparseFile\u001b[0m\u001b[0;34m(\u001b[0m\u001b[0mfp\u001b[0m\u001b[0;34m)\u001b[0m\u001b[0;34m\u001b[0m\u001b[0;34m\u001b[0m\u001b[0m\n\u001b[1;32m    912\u001b[0m     \u001b[0;32melse\u001b[0m\u001b[0;34m:\u001b[0m\u001b[0;34m\u001b[0m\u001b[0;34m\u001b[0m\u001b[0m\n",
      "\u001b[0;31mFileNotFoundError\u001b[0m: [Errno 2] No such file or directory: 'Myxml.xml'"
     ]
    }
   ],
   "source": [
    "doc = xml.dom.minidom.parse(\"Myxml.xml\");"
   ]
  },
  {
   "cell_type": "code",
   "execution_count": 11,
   "metadata": {},
   "outputs": [],
   "source": [
    "from xml.etree.ElementTree import Element, SubElement, Comment, tostring\n"
   ]
  },
  {
   "cell_type": "code",
   "execution_count": 12,
   "metadata": {},
   "outputs": [],
   "source": [
    "import csv\n"
   ]
  },
  {
   "cell_type": "code",
   "execution_count": 14,
   "metadata": {},
   "outputs": [],
   "source": [
    "persons=[('Lata, nahar',22,45),('Anil',21,56),('John',20,60)]\n",
    "csvfile=open('persons.csv','w', newline='')\n",
    "obj=csv.writer(csvfile)\n",
    "for person in persons:\n",
    "    obj.writerow(person)\n",
    "csvfile.close()"
   ]
  },
  {
   "cell_type": "code",
   "execution_count": 15,
   "metadata": {
    "collapsed": true
   },
   "outputs": [
    {
     "name": "stdout",
     "output_type": "stream",
     "text": [
      "https://edition.cnn.com/2020/04/17/americas/us-migrants-guatemala-coronavirus/index.html\n",
      "44 migrants on one US deportation flight tested positive for coronavirus\n",
      "(CNN) At least 44 migrants who were on the same deportation flight from the US to Guatemala this week have tested positive for Covid-19, two Guatemalan government sources told CNN.\n",
      "\n",
      "The migrants flew to Guatemala on an April 13 flight from Brownsville, Texas, the sources said.\n",
      "\n",
      "Some who favor restricting immigration in the United States have suggested accelerating the pace of deportation flights in response to concerns about the virus spreading in ICE detention facilities\n",
      "\n",
      "During a live televised address Thursday night, Guatemala's presidential spokesman Carlos Sandoval said both countries were working closely \"to revalidate the health status of Guatemalans returned in recent days,\" adding that Covid-19 tests \"would be carried out again on the cases that tested positive and also on the people who tested negative\" in both countries.\n",
      "\n",
      "Read More\n",
      "https://edition.cnn.com/2020/04/16/americas/brazil-health-minister-fired-intl/index.html\n",
      "Brazil President Bolsonaro replaces health minister\n",
      "(CNN) Brazil's president Jair Bolsonaro has fired his health minister after weeks of infighting and threats over the country's coronavirus strategy.\n",
      "\n",
      "\"I just heard from President Jair Bolsonaro the notification of my discharge as Health Minister,\" the outgoing minister Luiz Henrique Mandetta tweeted Thursday, thanking his colleagues and wishing success for his replacement.\n",
      "\n",
      "He will be replaced by Nelson Teich, an oncologist who supported Bolsonaro's presidential campaign.\n",
      "\n",
      "Mandetta was one of Brazil's biggest proponents of social distancing, supporting governors' decisions to shut down schools and businesses. But his approach put him at odds with Bolsonaro, who has previously downplayed Covid-19 as nothing more than a \"little flu\" and warned that the economic fallout from isolation could be worse than the virus itself.\n",
      "\n",
      "Mandetta also challenged the president's insistence that malaria drugs are the solution to the Covid-19 crisis. While Brazil has launched trials involving the drugs, Mandetta has warned there is no evidence that they are effective in treating the symptoms.\n",
      "\n",
      "Read More\n",
      "https://edition.cnn.com/2020/04/03/americas/guayaquil-ecuador-overwhelmed-coronavirus-intl/index.html\n",
      "Bodies are being left in the streets in an overwhelmed Ecuadorian city\n",
      "(CNN) The streets of Ecuador's western city of Guayaquil are deserted, with few residents in sight -- and a few dead, as bodies are being left in the streets of this overwhelmed place.\n",
      "\n",
      "The coronavirus pandemic is overloading the public services in the country's most populous city to a point of collapse. Hospitals have no beds left to accept sick patients, and morgues, cemeteries and funeral homes are straining. With no place left to put them, some residents say they have no choice but placing them outside.\n",
      "\n",
      "It's unclear how many of the deceased are dying because of Covid-19. Many families say their loved ones had symptoms of the virus, while others only know the ill were unable to be treated at Guayaquil's overwhelmed hospitals.\n",
      "\n",
      "\"We have been waiting for five days,\" Fernando Espana said in a video obtained by Reuters on March 30, as he complained about the struggles to have authorities come pick up his family member.\n",
      "\n",
      "\"We are tired of calling 911 and the only thing they tell us is to wait, they are working to solve this,\" he continues as he moves the camera through a window to show a black plastic-wrapped shape inside the home, with two fans blowing on it.\n",
      "\n",
      "Read More\n"
     ]
    }
   ],
   "source": [
    "csvfile=open('news.csv','w', newline='')\n",
    "obj=csv.writer(csvfile)\n",
    "\n",
    "for article in cnn_paper.articles[0:10]:\n",
    "    article_info_for_csv = {}\n",
    "    try:\n",
    "        article.download()\n",
    "        article.parse()\n",
    "        if \"Covid-19\" in article.text:\n",
    "            print (article.url)\n",
    "            print (article.title)\n",
    "            print (article.text)\n",
    "            article_info_for_csv = {article.title, article.url, article.text}\n",
    "            obj.writerow(article_info_for_csv)\n",
    "    except Exception as e:\n",
    "        print (e)\n",
    "        continue\n",
    "        \n",
    "csvfile.close()"
   ]
  },
  {
   "cell_type": "code",
   "execution_count": 16,
   "metadata": {
    "collapsed": true
   },
   "outputs": [
    {
     "ename": "TypeError",
     "evalue": "argument 1 must be an iterator",
     "output_type": "error",
     "traceback": [
      "\u001b[0;31m---------------------------------------------------------------------------\u001b[0m",
      "\u001b[0;31mTypeError\u001b[0m                                 Traceback (most recent call last)",
      "\u001b[0;32m<ipython-input-16-bde22e0d7d39>\u001b[0m in \u001b[0;36m<module>\u001b[0;34m\u001b[0m\n\u001b[1;32m      1\u001b[0m \u001b[0msvfile\u001b[0m\u001b[0;34m=\u001b[0m\u001b[0mopen\u001b[0m\u001b[0;34m(\u001b[0m\u001b[0;34m'news.csv'\u001b[0m\u001b[0;34m,\u001b[0m\u001b[0;34m'r'\u001b[0m\u001b[0;34m,\u001b[0m \u001b[0mnewline\u001b[0m\u001b[0;34m=\u001b[0m\u001b[0;34m''\u001b[0m\u001b[0;34m)\u001b[0m\u001b[0;34m\u001b[0m\u001b[0;34m\u001b[0m\u001b[0m\n\u001b[0;32m----> 2\u001b[0;31m \u001b[0mobj\u001b[0m\u001b[0;34m=\u001b[0m\u001b[0mcsv\u001b[0m\u001b[0;34m.\u001b[0m\u001b[0mreader\u001b[0m\u001b[0;34m(\u001b[0m\u001b[0mcsvfile\u001b[0m\u001b[0;34m)\u001b[0m\u001b[0;34m\u001b[0m\u001b[0;34m\u001b[0m\u001b[0m\n\u001b[0m\u001b[1;32m      3\u001b[0m \u001b[0;32mfor\u001b[0m \u001b[0mrow\u001b[0m \u001b[0;32min\u001b[0m \u001b[0mobj\u001b[0m\u001b[0;34m:\u001b[0m\u001b[0;34m\u001b[0m\u001b[0;34m\u001b[0m\u001b[0m\n\u001b[1;32m      4\u001b[0m     \u001b[0mprint\u001b[0m \u001b[0;34m(\u001b[0m\u001b[0mrow\u001b[0m\u001b[0;34m)\u001b[0m\u001b[0;34m\u001b[0m\u001b[0;34m\u001b[0m\u001b[0m\n",
      "\u001b[0;31mTypeError\u001b[0m: argument 1 must be an iterator"
     ]
    }
   ],
   "source": [
    "svfile=open('news.csv','r', newline='')\n",
    "obj=csv.reader(csvfile)\n",
    "for row in obj:\n",
    "    print (row)"
   ]
  },
  {
   "cell_type": "code",
   "execution_count": 1,
   "metadata": {
    "collapsed": true
   },
   "outputs": [
    {
     "ename": "ModuleNotFoundError",
     "evalue": "No module named 'mysql'",
     "output_type": "error",
     "traceback": [
      "\u001b[0;31m---------------------------------------------------------------------------\u001b[0m",
      "\u001b[0;31mModuleNotFoundError\u001b[0m                       Traceback (most recent call last)",
      "\u001b[0;32m<ipython-input-1-9cd6224ba968>\u001b[0m in \u001b[0;36m<module>\u001b[0;34m\u001b[0m\n\u001b[0;32m----> 1\u001b[0;31m \u001b[0;32mimport\u001b[0m \u001b[0mmysql\u001b[0m\u001b[0;34m.\u001b[0m\u001b[0mconnector\u001b[0m\u001b[0;34m\u001b[0m\u001b[0;34m\u001b[0m\u001b[0m\n\u001b[0m",
      "\u001b[0;31mModuleNotFoundError\u001b[0m: No module named 'mysql'"
     ]
    }
   ],
   "source": [
    "import mysql.connector"
   ]
  },
  {
   "cell_type": "code",
   "execution_count": 45,
   "metadata": {},
   "outputs": [
    {
     "name": "stdout",
     "output_type": "stream",
     "text": [
      "Database version : 5.7.29-0ubuntu0.18.04.1 \n"
     ]
    }
   ],
   "source": [
    "#mysql database connection \n",
    "import pymysql\n",
    "db = pymysql.connect(\"localhost\",\"root\",\"1987\",\"crawler\" )\n",
    "cursor = db.cursor()\n",
    "cursor.execute(\"SELECT VERSION()\")\n",
    "data = cursor.fetchone()\n",
    "print (\"Database version : %s \" % data)  # check the db is connected\n"
   ]
  },
  {
   "cell_type": "code",
   "execution_count": 2,
   "metadata": {},
   "outputs": [],
   "source": [
    "db = pymysql.connect(\"localhost\",\"root\",\"1987\",\"crawler\" )"
   ]
  },
  {
   "cell_type": "code",
   "execution_count": 3,
   "metadata": {},
   "outputs": [],
   "source": [
    "cursor = db.cursor()"
   ]
  },
  {
   "cell_type": "code",
   "execution_count": 4,
   "metadata": {},
   "outputs": [
    {
     "data": {
      "text/plain": [
       "1"
      ]
     },
     "execution_count": 4,
     "metadata": {},
     "output_type": "execute_result"
    }
   ],
   "source": [
    "cursor.execute(\"SELECT VERSION()\")"
   ]
  },
  {
   "cell_type": "code",
   "execution_count": 5,
   "metadata": {},
   "outputs": [
    {
     "name": "stdout",
     "output_type": "stream",
     "text": [
      "Database version : 5.7.29-0ubuntu0.18.04.1 \n"
     ]
    }
   ],
   "source": [
    "data = cursor.fetchone()\n",
    "print (\"Database version : %s \" % data)"
   ]
  },
  {
   "cell_type": "code",
   "execution_count": 24,
   "metadata": {},
   "outputs": [],
   "source": [
    "sql = \"SELECT * FROM cnn_news\""
   ]
  },
  {
   "cell_type": "code",
   "execution_count": 25,
   "metadata": {},
   "outputs": [
    {
     "name": "stdout",
     "output_type": "stream",
     "text": [
      "1 Canada Trudeau Covid-19\n",
      "2 Trump America\n",
      "3 Hasina Bangladesh\n",
      "4 Test from python\n",
      "4 Test from python\n"
     ]
    }
   ],
   "source": [
    "sql = \"SELECT * FROM cnn_news\"\n",
    "try:\n",
    "    cursor.execute(sql)\n",
    "    results = cursor.fetchall()\n",
    "    for row in results:\n",
    "        sid = row[0]\n",
    "        title = row[1]\n",
    "        print (sid, title)\n",
    "except:\n",
    "    print (\"error in data show\")"
   ]
  },
  {
   "cell_type": "code",
   "execution_count": 8,
   "metadata": {},
   "outputs": [
    {
     "name": "stderr",
     "output_type": "stream",
     "text": [
      "/home/saeed/.local/lib/python3.6/site-packages/pymysql/cursors.py:170: Warning: (1051, \"Unknown table 'crawler.EMPLOYEE'\")\n",
      "  result = self._query(query)\n"
     ]
    },
    {
     "data": {
      "text/plain": [
       "0"
      ]
     },
     "execution_count": 8,
     "metadata": {},
     "output_type": "execute_result"
    }
   ],
   "source": [
    "cursor.execute(\"DROP TABLE IF EXISTS EMPLOYEE\")"
   ]
  },
  {
   "cell_type": "code",
   "execution_count": 23,
   "metadata": {},
   "outputs": [],
   "source": [
    "cursor = db.cursor()"
   ]
  },
  {
   "cell_type": "code",
   "execution_count": 10,
   "metadata": {},
   "outputs": [
    {
     "data": {
      "text/plain": [
       "0"
      ]
     },
     "execution_count": 10,
     "metadata": {},
     "output_type": "execute_result"
    }
   ],
   "source": [
    "cursor.execute(\"DROP TABLE IF EXISTS EMPLOYEE\")"
   ]
  },
  {
   "cell_type": "code",
   "execution_count": 13,
   "metadata": {},
   "outputs": [],
   "source": [
    "sql = \"\"\"CREATE TABLE news (\n",
    "   title CHAR(250) NOT NULL,\n",
    "   url  CHAR(200),\n",
    "   description TEXT )\"\"\""
   ]
  },
  {
   "cell_type": "code",
   "execution_count": 14,
   "metadata": {},
   "outputs": [
    {
     "data": {
      "text/plain": [
       "0"
      ]
     },
     "execution_count": 14,
     "metadata": {},
     "output_type": "execute_result"
    }
   ],
   "source": [
    "cursor.execute(sql)"
   ]
  },
  {
   "cell_type": "code",
   "execution_count": 26,
   "metadata": {},
   "outputs": [],
   "source": [
    "cursor = db.cursor()"
   ]
  },
  {
   "cell_type": "code",
   "execution_count": 27,
   "metadata": {},
   "outputs": [],
   "source": [
    "cursor = db.cursor()\n",
    "sql = \"\"\"INSERT INTO cnn_news(id,\n",
    "   title, description)\n",
    "   VALUES ('5', 'Test 5 from python', 'its description 5 from python')\"\"\"\n",
    "try:\n",
    "   # Execute the SQL command\n",
    "   cursor.execute(sql)\n",
    "   # Commit your changes in the database\n",
    "   db.commit()\n",
    "except:\n",
    "   # Rollback in case there is any error\n",
    "   db.rollback()"
   ]
  },
  {
   "cell_type": "code",
   "execution_count": 21,
   "metadata": {},
   "outputs": [],
   "source": [
    "try:\n",
    "   # Execute the SQL command\n",
    "   cursor.execute(sql)\n",
    "   # Commit your changes in the database\n",
    "   db.commit()\n",
    "except:\n",
    "   # Rollback in case there is any error\n",
    "   db.rollback()"
   ]
  },
  {
   "cell_type": "code",
   "execution_count": 28,
   "metadata": {},
   "outputs": [
    {
     "name": "stdout",
     "output_type": "stream",
     "text": [
      "1 Canada Trudeau Covid-19\n",
      "2 Trump America\n",
      "3 Hasina Bangladesh\n",
      "4 Test from python\n",
      "4 Test from python\n",
      "5 Test 5 from python\n"
     ]
    }
   ],
   "source": [
    "cursor = db.cursor()\n",
    "sql = \"SELECT * FROM cnn_news\"\n",
    "try:\n",
    "    cursor.execute(sql)\n",
    "    results = cursor.fetchall()\n",
    "    for row in results:\n",
    "        sid = row[0]\n",
    "        title = row[1]\n",
    "        print (sid, title)\n",
    "except:\n",
    "    print (\"error in data show\")"
   ]
  },
  {
   "cell_type": "code",
   "execution_count": 70,
   "metadata": {},
   "outputs": [],
   "source": [
    "cursor = db.cursor()\n",
    "id = 8\n",
    "title = \"Tiylr 8 \"\n",
    "des = \"description 8 \\\" is \\$ and \\# and \\n oh my happy \\_ ending \"\n",
    "\n",
    "sql = \"INSERT INTO cnn_news(id, title, description) VALUES ('%s','%s','%s')\"%(id,title,des)\n",
    "try:\n",
    "   # Execute the SQL command\n",
    "   cursor.execute(sql)\n",
    "   # Commit your changes in the database\n",
    "   db.commit()\n",
    "except:\n",
    "   # Rollback in case there is any error\n",
    "   db.rollback()"
   ]
  },
  {
   "cell_type": "code",
   "execution_count": 93,
   "metadata": {},
   "outputs": [
    {
     "name": "stdout",
     "output_type": "stream",
     "text": [
      "1 Canada Trudeau Covid-19 Ca helps a lot for covid-19\n",
      "2 Trump America USA is seeking help in Covid-19\n",
      "3 Hasina Bangladesh BD is looking forward to help  Covid-19 paitent\n",
      "4 Test from python its description from python\n",
      "4 Test from python its description from python\n",
      "5 Test 5 from python its description 5 from python\n",
      "6 Tiylr 6  description 6 \n",
      "7 Tiylr 7  description 7 \n",
      "7 Tiylr 7  description 7 \n",
      "7 Tiylr 8  description 8 \" is $ and # and \n",
      " oh my happy \\_ ending \n",
      "8 Tiylr 8   people as of Friday.\n",
      "9 test 9  in defiance of a nationwide lockdown in Italy .\\n\\nIt was no ordinary procession. The couple of dozen people walking behind the hearse were paying their respects to a 70-year-old scion of one of the most notorious Mafia famiglie.\\n\\nClaudio Fava, president of the regional anti-Mafia committee, described it as a \\\"real scandal, an insult to those who lost their relatives in the pandemic.\\\"\\n\\nFunerals have been banned in Italy since early March as part of a broader set of restrictions aimed at curbing the Covid-19 outbreak that has killed nearly 23,000 people as of Friday.\\n\\nThat the procession took place at all speaks to the power -- and the impunity -- wielded by the Mafia in parts of Italy.\n",
      "8 Tiylr 8   people as of Friday.\n",
      "\n",
      "That the procession took place at all speaks to t\n",
      "8 Tiylr 8   people as of Friday.\n",
      "\n",
      "That the procession took place at all speaks to the power -- and the impunity wi by \t\n",
      "10 Tiylr 8   people as of Friday.\n",
      "\n",
      "That the procession took place at all $ speaks \" to the power -- and the impunity wi by \t\n",
      "10 Tiylr 8   people as of Friday.\n",
      "\n",
      "That the procession took place at all $ speak`s \" to the power -- and the impunity wi by \t\n",
      "11 Tiylr 8   people as of Friday.\n",
      "\n",
      "That the procession took place at all $ speak`s \" to the power -- and the impunity wi by \t\n",
      "12 Tiylr 8   people as of Friday.<br /> \n",
      "That the procession took place at all $ speak`s \" to the power -- and the impunity wi by \t\n",
      "13 Tiylr 8   people as of Friday.<br /> <br />That the procession took place at all $ speak`s \" to the power -- and the impunity wi by \t\n"
     ]
    }
   ],
   "source": [
    "cursor = db.cursor()\n",
    "sql = \"SELECT * FROM cnn_news\"\n",
    "try:\n",
    "    cursor.execute(sql)\n",
    "    results = cursor.fetchall()\n",
    "    for row in results:\n",
    "        sid = row[0]\n",
    "        title = row[1]\n",
    "        desc = row[2]\n",
    "        print (sid, title, desc)\n",
    "except:\n",
    "    print (\"error in data show\")"
   ]
  },
  {
   "cell_type": "code",
   "execution_count": 42,
   "metadata": {},
   "outputs": [
    {
     "ename": "NameError",
     "evalue": "name 'db_connection_close' is not defined",
     "output_type": "error",
     "traceback": [
      "\u001b[0;31m---------------------------------------------------------------------------\u001b[0m",
      "\u001b[0;31mNameError\u001b[0m                                 Traceback (most recent call last)",
      "\u001b[0;32m<ipython-input-42-279f4cec617e>\u001b[0m in \u001b[0;36m<module>\u001b[0;34m\u001b[0m\n\u001b[0;32m----> 1\u001b[0;31m \u001b[0mdb_connection_close\u001b[0m\u001b[0;34m(\u001b[0m\u001b[0mdb\u001b[0m\u001b[0;34m)\u001b[0m\u001b[0;34m\u001b[0m\u001b[0;34m\u001b[0m\u001b[0m\n\u001b[0m",
      "\u001b[0;31mNameError\u001b[0m: name 'db_connection_close' is not defined"
     ]
    }
   ],
   "source": [
    "db_connection_close(db)"
   ]
  },
  {
   "cell_type": "code",
   "execution_count": 121,
   "metadata": {},
   "outputs": [],
   "source": [
    "db.close()"
   ]
  },
  {
   "cell_type": "code",
   "execution_count": 46,
   "metadata": {},
   "outputs": [],
   "source": [
    "def table_insert(db, serial_id, title, description):\n",
    "\tcursor = db.cursor()\n",
    "\n",
    "\tsql = \"INSERT INTO 'cnn_news'(id, title, description) VALUES ('%s','%s','%s')\"%(serial_id, title, description)\n",
    "\ttry:\n",
    "\t   # Execute the SQL command\n",
    "\t   cursor.execute(sql)\n",
    "\t   # Commit your changes in the database\n",
    "\t   db.commit()\n",
    "\texcept:\n",
    "\t   # Rollback in case there is any error\n",
    "\t   db.rollback()"
   ]
  },
  {
   "cell_type": "code",
   "execution_count": 49,
   "metadata": {},
   "outputs": [],
   "source": [
    "import newspaper"
   ]
  },
  {
   "cell_type": "code",
   "execution_count": 50,
   "metadata": {},
   "outputs": [],
   "source": [
    "cnn_paper = newspaper.build('https://edition.cnn.com', memoize_articles=False)"
   ]
  },
  {
   "cell_type": "code",
   "execution_count": 120,
   "metadata": {},
   "outputs": [
    {
     "name": "stdout",
     "output_type": "stream",
     "text": [
      "1\n",
      "https://edition.cnn.com/2020/04/19/europe/italy-mafia-exploiting-coronavirus-crisis-aid-intl/index.html\n",
      "The Mafia is poised to exploit coronavirus, and not just in Italy\n",
      "2\n",
      "https://edition.cnn.com/2020/04/18/china/great-manchurian-plague-china-hnk-intl/index.html\n",
      "In 1911, another epidemic swept through China. That time, the world came together\n",
      "3\n",
      "https://edition.cnn.com/2020/04/18/uk/nhs-love-affair-uk-intl-gbr/index.html\n",
      "Britain's health service is part of its national psyche. It's also on life support\n",
      "4\n",
      "https://edition.cnn.com/2020/04/18/europe/uk-coronavirus-doctors-protective-equipment-gbr-intl/index.html\n",
      "UK doctors say they still face shortage of protective equipment\n",
      "5\n",
      "https://edition.cnn.com/2020/04/18/europe/spain-coronavirus-death-toll-intl/index.html\n",
      "Spain's coronavirus death toll rises to over 20,000\n",
      "6\n",
      "https://edition.cnn.com/2020/04/14/middleeast/iraqi-president-reuters-suspension-intl/index.html\n",
      "Iraqi President working to reinstate Reuters after suspension\n",
      "7\n",
      "https://edition.cnn.com/2020/04/09/middleeast/us-citizens-lebanon-coronavirus-intl/index.html\n",
      "US citizens in Lebanon decline repatriation offer, saying it's 'safer' in Beirut\n",
      "8\n",
      "https://edition.cnn.com/2020/04/09/middleeast/saudi-yemen-coronavirus-ceasefire-intl/index.html\n",
      "Saudi Arabia declares ceasefire in Yemen over coronavirus\n",
      "9\n",
      "https://edition.cnn.com/2020/04/18/africa/covid-19-ventilator-shortage-intl-scli/index.html\n",
      "The world is scrambling to buy ventilators in the Covid-19 pandemic. One country has only four of them -- for 12 million people\n",
      "10\n",
      "https://edition.cnn.com/2020/04/09/africa/africa-recession-coronavirus/index.html\n",
      "Sub-Saharan Africa to fall into its first recession in 25 years due to coronavirus, says World Bank\n",
      "11\n",
      "https://edition.cnn.com/2020/04/17/africa/kenya-governor-alcohol-and-coronavirus/index.html\n",
      "Kenya governor under fire after putting Hennessy bottles in coronavirus care packages\n",
      "12\n",
      "https://edition.cnn.com/2020/04/17/americas/us-migrants-guatemala-coronavirus/index.html\n",
      "44 migrants on one US deportation flight tested positive for coronavirus\n",
      "13\n",
      "https://edition.cnn.com/2020/04/16/americas/brazil-health-minister-fired-intl/index.html\n",
      "Brazil President Bolsonaro replaces health minister\n",
      "14\n",
      "https://edition.cnn.com/2020/04/16/business/jeff-bezos-amazon-shareholders-letter-2019/index.html\n",
      "Amazon is developing its own coronavirus test for workers\n",
      "15\n",
      "https://edition.cnn.com/2020/04/16/business/starbucks-coronavirus-reopening/index.html\n",
      "Starbucks has a plan for gradually reopening. Here's how it will work\n",
      "16\n",
      "https://edition.cnn.com/2020/04/15/asia/china-coronavirus-qr-code-intl-hnk/index.html\n",
      "China is fighting the coronavirus with a digital QR code. Here's how it works\n",
      "17\n",
      "https://edition.cnn.com/2020/04/16/media/disney-credit-coronavirus/index.html\n",
      "Disney needs credit, and has earned it\n",
      "18\n",
      "https://edition.cnn.com/travel/article/pilots-recency-flying-hours/index.html\n",
      "What happens when pilots don't get their flying hours?\n",
      "19\n",
      "https://edition.cnn.com/travel/article/private-jet-turned-back-cannes-france/index.html\n",
      "Private jet carrying vacationers turned back after landing in the south of France\n",
      "Article `download()` failed with 403 Client Error: Forbidden for url: https://www.comparecards.com/guide/heres-a-brilliant-way-to-pay-credit-cards?esourceid=6315166&utm_source=cnn&utm_medium=native&pla=cnn.com&bdst=rv&acqs=prospecting&utm_campaign=sectionfront&grp=brilliant-way&tar=sectionfront&utm_content=fastest&adt=croissantcard&mtaid=8631C&ad_group_name=brilliant-way&ad_position=3&campaign_name=sectionfront_brilliant-way&placement_name=sectionfront&ad_headline=fastest&ad_image_name=croissantcard on URL https://www.comparecards.com/guide/heres-a-brilliant-way-to-pay-credit-cards?esourceid=6315166&utm_source=cnn&utm_medium=native&pla=cnn.com&bdst=rv&acqs=prospecting&utm_campaign=sectionfront&grp=brilliant-way&tar=sectionfront&utm_content=fastest&adt=croissantcard&mtaid=8631C&ad_group_name=brilliant-way&ad_position=3&campaign_name=sectionfront_brilliant-way&placement_name=sectionfront&ad_headline=fastest&ad_image_name=croissantcard\n",
      "20\n",
      "https://edition.cnn.com/2020/04/17/europe/georgia-orthodox-easter-intl/index.html\n",
      "Georgia's defiant Orthodox church will host Easter worshipers despite lockdown\n",
      "21\n",
      "https://edition.cnn.com/2020/04/17/world/gallery/creative-face-masks-trnd/index.html\n",
      "Creative face masks from around the world\n",
      "22\n",
      "https://edition.cnn.com/2020/04/17/europe/emmanuel-macron-coronavirus-response-populism-intl/index.html\n",
      "Emmanuel Macron warns the EU is facing a 'moment of truth' as it tackles coronavirus economic crisis\n",
      "23\n",
      "https://edition.cnn.com/2020/04/17/world/coronavirus-newsletter-04-17-20-intl/index.html\n",
      "What you need to know about coronavirus on Friday, April 17\n",
      "24\n",
      "https://edition.cnn.com/2020/04/17/africa/hand-made-coronavirus-kits-nigeria-spc/index.html\n",
      "Nigerian tailors are hand-making PPE to help fight coronavirus\n",
      "25\n",
      "https://edition.cnn.com/2020/04/17/europe/turkey-coronavirus-lockdown-response-intl/index.html\n",
      "With weekend lockdowns and age-specific restrictions, Turkey takes a different coronavirus approach\n"
     ]
    }
   ],
   "source": [
    "news_counter = 0\n",
    "cursor = db.cursor()\n",
    "for article in cnn_paper.articles:\n",
    "    if (news_counter >=25):\n",
    "        break\n",
    "    try:\n",
    "        article.download()\n",
    "        article.parse()\n",
    "        if \"Covid-19\" in article.text:\n",
    "            news_counter += 1\n",
    "            \n",
    "            id = news_counter\n",
    "            title = str(article.title)\n",
    "            title = title.replace(\"\\'\" , \"\\`\")\n",
    "            desc = str(article.text)\n",
    "            description = pymysql.escape_string(desc)\n",
    "            description = description.replace(\"\\\\n\" , \"<br />\")\n",
    "            description = description.replace(\"'\" , \"`\")\n",
    "            description = description.replace(\"-\" , \"\\-\")\n",
    "            description = description.replace(\"%\" , \"\\%\")\n",
    "#             print (description)\n",
    "            \n",
    "            cursor = db.cursor()\n",
    "            sql = \"INSERT INTO cnn_news(id, title, description) VALUES ('%s','%s','%s')\"%(id,title,description)\n",
    "            try:\n",
    "                cursor.execute(sql)\n",
    "                db.commit()\n",
    "            except:\n",
    "                print (\"problem in insert %s\"%article.title)\n",
    "                print (description)\n",
    "                db.rollback()\n",
    "                \n",
    "            print (id)\n",
    "            print (article.url)\n",
    "            print (article.title)\n",
    "\n",
    "    except Exception as e:\n",
    "        print (e)\n",
    "        continue"
   ]
  },
  {
   "cell_type": "code",
   "execution_count": 67,
   "metadata": {},
   "outputs": [
    {
     "ename": "ModuleNotFoundError",
     "evalue": "No module named 'MySQLdb'",
     "output_type": "error",
     "traceback": [
      "\u001b[0;31m---------------------------------------------------------------------------\u001b[0m",
      "\u001b[0;31mModuleNotFoundError\u001b[0m                       Traceback (most recent call last)",
      "\u001b[0;32m<ipython-input-67-1ca246cdd999>\u001b[0m in \u001b[0;36m<module>\u001b[0;34m\u001b[0m\n\u001b[0;32m----> 1\u001b[0;31m \u001b[0;32mimport\u001b[0m \u001b[0mMySQLdb\u001b[0m\u001b[0;34m\u001b[0m\u001b[0;34m\u001b[0m\u001b[0m\n\u001b[0m",
      "\u001b[0;31mModuleNotFoundError\u001b[0m: No module named 'MySQLdb'"
     ]
    }
   ],
   "source": [
    "import MySQLdb"
   ]
  },
  {
   "cell_type": "code",
   "execution_count": 104,
   "metadata": {},
   "outputs": [],
   "source": [
    "cursor = db.cursor()\n",
    "id = 16\n",
    "title = \"Tiylr 8 \"\n",
    "des = \" (CNN) Earlier this month, there was a funeral procession in the Sicilian town of Messina, in defiance of a nationwide lockdown in Italy .<br /><br />It was no ordinary procession. The couple of dozen people walking behind the hearse were paying their respects to a 70\\-year\\-old scion of one of the most notorious Mafia famiglie.<br /><br />Claudio Fava, president of the regional anti\\-Mafia committee, described it as a \\\"real scandal, an insult to those who lost their relatives in the pandemic.\\\"<br /><br />Funerals have been banned in Italy since early March as part of a broader set of restrictions aimed at curbing the Covid\\-19 outbreak that has killed nearly 23,000 people as of Friday.<br /><br />That the procession took place at all speaks to the power \\-\\- and the impunity \\-\\- wielded by the Mafia in parts of Italy.<br /><br />Senior anti\\-mafia officials and researchers have told CNN that Mafia clans are already taking advantage of the coronavirus pandemic, especially in southern Italy.<br /><br />They are providing everyday necessities in poor neighborhoods, offering credit to businesses on the verge of bankruptcy and planning to siphon off a chunk of the billions of euros being lined up in stimulus funds.<br /><br />The most powerful branch of the Mafia \\-\\- the \\`Ndrangheta, based in Calabria \\-\\- is thought to control 80% of the European cocaine market . Even as the pandemic made distribution more difficult, it took advantage of the lockdown.<br /><br />Journalist Roberto Saviano \\-\\- author of \\\"Gomorrah: Italy\\`s other Mafia,\\\" an expose of the Camorra mafia in Naples \\-\\- told CNN that \\\"the traffickers took advantage of the [lack of] oversight of law enforcement in the ports, in the airports.\\\"<br /><br />\\\"Who was checking any more?\\\" he asked.<br /><br />A police car patrols an empty street in Taormina this month after restrictions were imposed to avoid the spread of Covid\\-19.<br /><br />Exploiting a desperate need for cash<br /><br />But Mafia groups are about far more than trafficking cocaine. They are deeply embedded in the economy.<br /><br />While traditional Mafia activities such as extortion may suffer during the pandemic, there will also be fresh opportunities, said Anna Sergi, senior lecturer in criminology at the University of Essex.<br /><br />Franco Gabrielli, head of the Italian police, said that Mafia organizations are already deeply enmeshed in parts of the economy \\\"that have not been blocked by the restrictions of Covid\\-19: the agriculture\\-food chain, the supply of medicines and medical equipment, road transport.\\\"<br /><br />It\\`s a view shared by Saviano.<br /><br />\\\"Funeral homes they invest in, hospital laundries. Cleaning companies they\\`ve always invested in. Good delivery companies, gas stations, this is the portfolio they\\`ve had for the past 10 years,\\\" he told CNN.<br /><br />Such is the financial muscle of the \\`Ndrangheta, Gabrielli said last week, that it could exploit a desperate need for cash faced by businesses it doesn\\`t currently control.<br /><br />\\\"At the end of the emergency, the criminal associations could have polluted the economy, controlling companies previously not infiltrated,\\\" he said.<br /><br />Sergi says past crises have shown that the Mafia can move money quickly outside the banking system and demand fewer guarantees than banks. Lending money to distressed companies and then gradually taking control of them is a well\\-oiled mafia tactic.<br /><br />Nicola Gratteri, an anti\\-Mafia investigator and head of the public prosecutor\\`s office in Catanzaro, told CNN that businesses like restaurants and hotels are especially vulnerable.<br /><br />The last great recession, in 2008, offers a sobering comparison.<br /><br />Anti\\-Mafia groups like SOS Impresa said that crisis turned the Mafia into Italy\\`s largest bank. The Palermo\\-based group estimated in 2012 that the Mafia had 65 billion euros ($72 billion) in liquidity and described extortionate lending as \\\"a national emergency.\\\" At the same time, many Italian banks were struggling to stay afloat and borrowing heavily from the European Central Bank.<br /><br />Saviano believes liquidity will be \\\"the center of everything\\\" in the aftermath of the coronavirus crisis.<br /><br />\\\"The organization will come to a company in crisis and say: \\`We don\\`t buy everything, but we will give you cash in exchange for shares \\-\\- to become part of your company,\\`\\\" he said.<br /><br />\\\"This is what they will do with everyone.\\\"<br /><br />A parallel state<br /><br />At the end of last month, video footage of a couple hammering at the doors of a bank in the southern city of Bari went viral. \\\"You suck, the state sucks. How are we going to manage?\\\" the woman shouts.<br /><br />These are exactly the sort of circumstances the Mafia exploits. The \\`Ndrangheta and other clans don\\`t simply live off societies where they are strong. They build loyalty by supplying necessities to poorer neighborhoods and cash to struggling businesses.<br /><br />To Gratteri, this is \\\"a method to create allegiance. If we \\-\\- the state \\-\\- don\\`t show ourselves to be efficient, what could happen is that the Mafia presents itself as a winning a model, and maybe asks for a return favor at the elections.\\\"<br /><br />Zora Hauser, a researcher into organized crime at Oxford University, said that \\\"what we are seeing \\-\\- and will see more and more as the economic and social crisis unfolds \\-\\- is Mafia groups returning to their core businesses of protection and governance.\\\"<br /><br />Salvo Palazzolo, a journalist with La Repubblica newspaper, received threats after reporting on food handouts by someone with Mafia connections in the poor \\\"ZEN\\\" district of Palermo in Sicily.<br /><br />\\\"At this moment, Mafia families of Palermo [the Cosa Nostra] are very strong, especially in drugs and online gambling. They have a lot of liquidity,\\\" Palazzolo told CNN.<br /><br />\\\"I would say the Cosa Nostra are strengthening their control through welfare assistance to families who are in jail, and now this is spreading to all poor families. They want to show themselves as an alternative to the state.\\\"<br /><br />In another district of Palermo, a local Mafia boss tried to organize a Good Friday church service in defiance of the lockdown before police intervened.<br /><br />Criminologist Anna Sergi says the Mafia want the community both to like and need them.<br /><br />The government is aware of the danger. CNN obtained a letter written by Interior Minister Luciana Lamorgese to regional leaders warning that criminal organizations would try to use \\\"forms of support\\\" to gain popularity.<br /><br />As Zora Hauser puts it: \\\"This can be cashed by the organization in different ways, the most worrying one being votes.\\\"<br /><br />The government has established a 400 million\\-euro ($435 million) food voucher fund and allotted another 4.3 billion euros ($4.8 billion) to local mayors.<br /><br />As Prime Minister Giuseppe Conte promised on March 28: \\\"We know that many suffer, but the state is there.\\\"<br /><br />But it\\`s a daunting challenge. Saviano says that during this crisis, the mafia will try to hire the \\\"new unemployed\\\" as its foot soldiers. As many as three million Italians work \\\"off the books,\\\" according to multiple surveys. One survey by the Organisation for Economic Co\\-operation and Development in 2017 estimated that a quarter of Italians in their early 20s were neither in employment, nor in education or training.<br /><br />Stimulus bonanza<br /><br />Getting Italy back to work is the government\\`s priority. It\\`s injecting 750 billion euros ($815 billion) into the economy.<br /><br />Part of the investment is to guarantee loans to businesses \\-\\- covering more than three\\-quarters of a large company\\`s borrowing. But given the massive sums being dispersed, anti\\-Mafia investigators worry that some of those loans, as well as other support, will go to Mafia\\-run businesses.<br /><br />Italy also wants Europe\\-wide \\\"coronabonds,\\\" basically a pooling of debt among EU member states. One German commentator, Christoph Schiltz, urged German Chancellor Angela Merkel to reject the idea, writing in Die Welt newspaper that \\\"the mafia is just waiting for a new shower of money from Brussels.\\\"<br /><br />Italian Foreign Minister Luigi Di Maio described Schiltz\\` comments as \\\"shameful and unacceptable.\\\"<br /><br />Saviano said: \\\"European funds today help the Italian economy that is on its knees. And an Italian economy on its knees means Italy is at the mercy of organised crime.\\\"<br /><br />It\\`s not just Italy\\`s problem. The Mafia\\`s tentacles spread across Europe and far beyond. The \\`Ndrangheta has a Europe\\-wide network for distributing drugs, often using pizza restaurants as fronts. It has also invested in property.<br /><br />For now, reinforced border controls and nationwide lockdowns are choking distribution networks for drugs. But like the coronavirus, the mafia groups are no respecter of borders. \\\"The Mafia is very powerful also in Germany,\\\" said Roberto Saviano. \\\"They shoot less, but they are very powerful.\\\"<br /><br />Earlier this month, Pope Francis prayed for \\\"people who during this time of the pandemic, trade at the expense of the needy and profit from the needs of others, like the Mafia, usurers and others.\\\"<br /><br />\\\"May the Lord touch their hearts and convert them,\\\" the Pope said.<br /><br />History, as well as current evidence, suggests he may be disappointed.\"\n",
    "des = des.replace(\"\\n\", \"<br />\")\n",
    "sql = \"INSERT INTO cnn_news(id, title, description) VALUES ('%s','%s','%s')\"%(id,title,des)\n",
    "\n",
    "try:\n",
    "   # Execute the SQL command\n",
    "   cursor.execute(sql)\n",
    "   # Commit your changes in the database\n",
    "   db.commit()\n",
    "except:\n",
    "    print (\"e\")\n",
    "    db.rollback()"
   ]
  },
  {
   "cell_type": "code",
   "execution_count": null,
   "metadata": {},
   "outputs": [],
   "source": []
  }
 ],
 "metadata": {
  "kernelspec": {
   "display_name": "Python 3",
   "language": "python",
   "name": "python3"
  },
  "language_info": {
   "codemirror_mode": {
    "name": "ipython",
    "version": 3
   },
   "file_extension": ".py",
   "mimetype": "text/x-python",
   "name": "python",
   "nbconvert_exporter": "python",
   "pygments_lexer": "ipython3",
   "version": "3.6.9"
  }
 },
 "nbformat": 4,
 "nbformat_minor": 2
}
